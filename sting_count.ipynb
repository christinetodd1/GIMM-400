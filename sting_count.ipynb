{
  "nbformat": 4,
  "nbformat_minor": 0,
  "metadata": {
    "colab": {
      "name": "sting count",
      "version": "0.3.2",
      "provenance": [],
      "include_colab_link": true
    },
    "kernelspec": {
      "name": "python3",
      "display_name": "Python 3"
    }
  },
  "cells": [
    {
      "cell_type": "markdown",
      "metadata": {
        "id": "view-in-github",
        "colab_type": "text"
      },
      "source": [
        "<a href=\"https://colab.research.google.com/github/christinetodd1/GIMM-400/blob/master/sting_count.ipynb\" target=\"_parent\"><img src=\"https://colab.research.google.com/assets/colab-badge.svg\" alt=\"Open In Colab\"/></a>"
      ]
    },
    {
      "cell_type": "code",
      "metadata": {
        "id": "m-KDU4sxW5_s",
        "colab_type": "code",
        "colab": {}
      },
      "source": [
        "def example_func(input_string):\n",
        "    #splint and len\n",
        "    list= input_string.split()\n",
        "    return len(list)\n",
        "  \n",
        "\n",
        "print (example_func('hello world this is'))"
      ],
      "execution_count": 0,
      "outputs": []
    }
  ]
}